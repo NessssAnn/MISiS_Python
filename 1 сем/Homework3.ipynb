{
 "cells": [
  {
   "cell_type": "markdown",
   "id": "f3776317",
   "metadata": {},
   "source": [
    "# Домашняя работа 3"
   ]
  },
  {
   "cell_type": "code",
   "execution_count": null,
   "id": "17aca3f3",
   "metadata": {},
   "outputs": [],
   "source": [
    "(Лекция 4)"
   ]
  },
  {
   "cell_type": "code",
   "execution_count": 4,
   "id": "763886dc",
   "metadata": {},
   "outputs": [],
   "source": [
    "def nth_root(x, n):\n",
    "    return x ** (1 / n)\n",
    "\n",
    "\n",
    "def check_extension(file_name, extensions):\n",
    "    for extension in extensions:\n",
    "        if file_name.endswith(extension):\n",
    "            return True\n",
    "    return False\n",
    "\n",
    "def sum_dig(number):\n",
    "    return sum(int(digit) for digit in str(number) if digit.isdigit())\n",
    "\n",
    "\n",
    "def unique(sequence):\n",
    "    return len(set(sequence)) == len(sequence)\n",
    "\n",
    "\n",
    "def print_list(my_list):\n",
    "    for i, item in enumerate(my_list):\n",
    "        print(f\"НОМЕР {i} --> {item}\")\n",
    "\n",
    "\n",
    "def print_dict(my_dict):\n",
    "    for key, value in my_dict.items():\n",
    "        print(f\"КЛЮЧ <<{key}>> --> {value}\")\n",
    "\n",
    "\n",
    "def print_overlord(mydict):\n",
    "    if isinstance(mydict, list):\n",
    "        print_list(mydict)\n",
    "    elif isinstance(mydict, dict):\n",
    "        print_dict(mydict)\n",
    "    else:\n",
    "        print(mydict)"
   ]
  },
  {
   "cell_type": "code",
   "execution_count": 5,
   "id": "a0c54191",
   "metadata": {},
   "outputs": [
    {
     "name": "stdout",
     "output_type": "stream",
     "text": [
      "{1: 10, 2: 20, 3: 30, 4: 40, 5: 50, 6: 60}\n"
     ]
    }
   ],
   "source": [
    "dict_a = {1:10, 2:20}\n",
    "dict_b = {3:30, 4:40}\n",
    "dict_c = {5:50, 6:60}\n",
    "\n",
    "big_dict = {}\n",
    "big_dict.update(dict_a)\n",
    "big_dict.update(dict_b)\n",
    "big_dict.update(dict_c)\n",
    "print(big_dict)"
   ]
  },
  {
   "cell_type": "code",
   "execution_count": 6,
   "id": "1729f48c",
   "metadata": {},
   "outputs": [
    {
     "name": "stdout",
     "output_type": "stream",
     "text": [
      "True\n"
     ]
    }
   ],
   "source": [
    "ext = ['png', 'jpg', 'jpeg', 'gif', 'svg']\n",
    "print(check_extension('anna.svg',ext))"
   ]
  },
  {
   "cell_type": "code",
   "execution_count": 7,
   "id": "652edab5",
   "metadata": {},
   "outputs": [
    {
     "data": {
      "text/plain": [
       "25"
      ]
     },
     "execution_count": 7,
     "metadata": {},
     "output_type": "execute_result"
    }
   ],
   "source": [
    "sum_dig(64528)"
   ]
  },
  {
   "cell_type": "code",
   "execution_count": 8,
   "id": "1694def4",
   "metadata": {},
   "outputs": [
    {
     "name": "stdout",
     "output_type": "stream",
     "text": [
      "True\n"
     ]
    }
   ],
   "source": [
    "numbers=[1,4,5]\n",
    "print(unique(numbers))"
   ]
  },
  {
   "cell_type": "code",
   "execution_count": 9,
   "id": "7dbf5ed2",
   "metadata": {},
   "outputs": [
    {
     "name": "stdout",
     "output_type": "stream",
     "text": [
      "НОМЕР 0 --> я\n",
      "НОМЕР 1 --> не\n",
      "НОМЕР 2 --> в\n",
      "НОМЕР 3 --> отпуск\n",
      "КЛЮЧ <<key1>> --> 1\n",
      "КЛЮЧ <<key2>> --> [1, 2, 3, 4]\n",
      "КЛЮЧ <<key3>> --> Hello\n",
      "КЛЮЧ <<key4>> --> {'ciao': 'Mondo', 'Привет': 'О дивный мир'}\n"
     ]
    }
   ],
   "source": [
    "print_list([\"я\", \"не\", \"в\", \"отпуск\" ])\n",
    "print_overlord(dict(key1=1,\n",
    "            key2=[1, 2, 3, 4],\n",
    "            key3='Hello',\n",
    "            key4={\"ciao\":\"Mondo\", \"Привет\": \"О дивный мир\"}))"
   ]
  }
 ],
 "metadata": {
  "kernelspec": {
   "display_name": "Python 3 (ipykernel)",
   "language": "python",
   "name": "python3"
  },
  "language_info": {
   "codemirror_mode": {
    "name": "ipython",
    "version": 3
   },
   "file_extension": ".py",
   "mimetype": "text/x-python",
   "name": "python",
   "nbconvert_exporter": "python",
   "pygments_lexer": "ipython3",
   "version": "3.11.5"
  }
 },
 "nbformat": 4,
 "nbformat_minor": 5
}
