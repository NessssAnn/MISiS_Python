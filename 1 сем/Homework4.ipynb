{
 "cells": [
  {
   "cell_type": "markdown",
   "id": "65871075",
   "metadata": {},
   "source": [
    "# Домашняя работа 4"
   ]
  },
  {
   "cell_type": "code",
   "execution_count": null,
   "id": "63ec8731",
   "metadata": {},
   "outputs": [],
   "source": [
    "(Лекция 5)"
   ]
  },
  {
   "cell_type": "code",
   "execution_count": 2,
   "id": "c1058f7b",
   "metadata": {},
   "outputs": [
    {
     "name": "stdout",
     "output_type": "stream",
     "text": [
      "['Данилов П.: 3.0', 'Дмитриев Н.: 2.0', 'Аранских В.: 5.0', 'Лемонов Ю.: 3.0', 'Котов Д.: 3.5', 'Олегова К.: 4.0', 'Керченских В.: 5.0', 'Смирнова О.: 4.0', 'Бирюкова Н.: 1.0', 'Иванов О.: 3.5', 'Петров И.: 3.0']\n"
     ]
    }
   ],
   "source": [
    "with open('text.txt', 'r', encoding='utf-8') as f:\n",
    "    lines = f.read().split('\\n')\n",
    "    names = []\n",
    "    result = []\n",
    "    for line in lines:\n",
    "        one = line.split(' ')\n",
    "        names.append(one[0]+' '+one[1])\n",
    "    for name in names:\n",
    "        scores = []\n",
    "        for line in lines:\n",
    "            one = line.split(' ')\n",
    "            nam =one[0] + ' ' + one[1]\n",
    "            if nam == name:\n",
    "                scores.append(int(one[2]))\n",
    "        average_score = sum(scores)/len(scores)\n",
    "        result.append(name+': '+str(average_score))\n",
    "    result = list(set(result))\n",
    "    print(result)"
   ]
  },
  {
   "cell_type": "code",
   "execution_count": 4,
   "id": "bdc0420e",
   "metadata": {},
   "outputs": [
    {
     "name": "stdout",
     "output_type": "stream",
     "text": [
      "{'Лекций': 2, 'Практических': 3, 'Лабораторных': 2}\n"
     ]
    }
   ],
   "source": [
    "with open(r\"schedule.txt\", 'r', encoding='utf-8') as f:\n",
    "    lines = f.read().split('\\n')\n",
    "    words_count = {'Лекций': 0,\n",
    "                   'Практических': 0,\n",
    "                   'Лабораторных': 0}\n",
    "    for line in lines:\n",
    "        one = line.split(' ')\n",
    "        for word in one:\n",
    "            w = ''.join(char for char in word if char.isalnum())\n",
    "            for key in words_count.keys():\n",
    "                if key.lower().find(w[:-1])!=-1:\n",
    "                    count = words_count[key]\n",
    "                    count = count+1\n",
    "                    words_count[key] = count\n",
    "print(words_count)"
   ]
  },
  {
   "cell_type": "code",
   "execution_count": 5,
   "id": "e5d34962",
   "metadata": {},
   "outputs": [
    {
     "name": "stdout",
     "output_type": "stream",
     "text": [
      "['.anaconda', '.android', '.astropy', '.cache', '.cisco', '.conda', '.condarc', '.continuum', '.eclipse', '.ipynb_checkpoints', '.ipython', '.jdks', '.jupyter', '.matplotlib', '.p2', '3D Objects', 'anaconda3', 'AppData', 'Application Data', 'Contacts', 'Cookies', 'Desktop', 'Documents', 'Downloads', 'eclipse-workspace', 'Favorites', 'five.txt', 'HomeWork1.ipynb', 'HomeWork2.ipynb', 'Homework3.ipynb', 'Homework5.ipynb', 'IdeaProjects', 'IntelGraphicsProfiles', 'L3.ipynb', 'L4.ipynb', 'L7v2.ipynb', 'L8v2.ipynb', 'LDClient', 'Links', 'Local Settings', 'Music', 'My Documents', 'NetHood', 'NTUSER.DAT', 'ntuser.dat.LOG1', 'ntuser.dat.LOG2', 'NTUSER.DAT{53b39e88-18c4-11ea-a811-000d3aa4692b}.TM.blf', 'NTUSER.DAT{53b39e88-18c4-11ea-a811-000d3aa4692b}.TMContainer00000000000000000001.regtrans-ms', 'NTUSER.DAT{53b39e88-18c4-11ea-a811-000d3aa4692b}.TMContainer00000000000000000002.regtrans-ms', 'ntuser.ini', 'Pictures', 'PrintHood', 'PycharmProjects', 'Recent', 'Saved Games', 'schedule.txt', 'Searches', 'SendTo', 'Start Menu', 'Templates', 'text.txt', 'Untitled.ipynb', 'Untitled1.ipynb', 'Untitled2.ipynb', 'Untitled3.ipynb', 'Untitled4.ipynb', 'Videos']\n"
     ]
    }
   ],
   "source": [
    "import os\n",
    "\n",
    "path = r\".\"\n",
    "dir_list = os.listdir(path)\n",
    "print(dir_list)"
   ]
  },
  {
   "cell_type": "code",
   "execution_count": 6,
   "id": "0bd3daf0",
   "metadata": {},
   "outputs": [
    {
     "name": "stdout",
     "output_type": "stream",
     "text": [
      "свирлеп\n",
      "храброславленный\n"
     ]
    }
   ],
   "source": [
    "with open(r\"five.txt\", 'r', encoding='utf-8') as f:\n",
    "    lines = f.read().split('\\n')\n",
    "    w = []\n",
    "    for line in lines:\n",
    "        one = line.split(' ')\n",
    "        for word in one:\n",
    "            w.append(''.join(char for char in word if char.isalnum()))\n",
    "    dicti = {w[0] : 1}\n",
    "    longestword = ''\n",
    "    for word in w:\n",
    "        count_word = 0\n",
    "        for key in dicti.keys():\n",
    "            if key.lower().find(word) != -1:\n",
    "                count = dicti[key]\n",
    "                count = count + 1\n",
    "                dicti[key] = count\n",
    "                count_word =+1\n",
    "        if count_word == 0:\n",
    "            dicti[word] = 1\n",
    "        if len(word)>len(longestword):\n",
    "            longestword = word\n",
    "print(max(dicti, key = dicti.get))\n",
    "print(longestword)"
   ]
  }
 ],
 "metadata": {
  "kernelspec": {
   "display_name": "Python 3 (ipykernel)",
   "language": "python",
   "name": "python3"
  },
  "language_info": {
   "codemirror_mode": {
    "name": "ipython",
    "version": 3
   },
   "file_extension": ".py",
   "mimetype": "text/x-python",
   "name": "python",
   "nbconvert_exporter": "python",
   "pygments_lexer": "ipython3",
   "version": "3.11.5"
  }
 },
 "nbformat": 4,
 "nbformat_minor": 5
}
