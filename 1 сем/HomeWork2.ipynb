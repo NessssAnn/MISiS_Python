{
 "cells": [
  {
   "cell_type": "markdown",
   "id": "d35a9494",
   "metadata": {},
   "source": [
    "# Домашняя работа 2"
   ]
  },
  {
   "cell_type": "code",
   "execution_count": null,
   "id": "22a3b836",
   "metadata": {},
   "outputs": [],
   "source": [
    "(Лекция 3)"
   ]
  },
  {
   "cell_type": "code",
   "execution_count": 1,
   "id": "0d96ccb5",
   "metadata": {},
   "outputs": [],
   "source": [
    "def month():\n",
    "    try:\n",
    "        n = int(input('Введите число '))\n",
    "        if n<=0 or n>12:\n",
    "            raise ValueError('Неверное число, введите снова')\n",
    "        n=n-1\n",
    "        months = ['Январь',\n",
    "               'Февраль',\n",
    "               'Март',\n",
    "               'Апрель',\n",
    "               'Май',\n",
    "               'Июнь',\n",
    "               'Июль',\n",
    "               'Август',\n",
    "               'Сентябрь',\n",
    "               'Октябрь',\n",
    "               'Ноябрь',\n",
    "               'Декабрь',\n",
    "              ]\n",
    "        print(months[n])\n",
    "    except ValueError:\n",
    "        print('Это не число')\n",
    "        month()"
   ]
  },
  {
   "cell_type": "code",
   "execution_count": 2,
   "id": "4bd06928",
   "metadata": {},
   "outputs": [],
   "source": [
    "def gcd():\n",
    "    try:\n",
    "        a = int(input('Введите первое число'))\n",
    "        b = int(input('Введите второе число'))\n",
    "        while b != 0:\n",
    "            a, b = b, a % b\n",
    "        print(a)\n",
    "    except ValueError:\n",
    "        print('Это не число')"
   ]
  },
  {
   "cell_type": "code",
   "execution_count": 3,
   "id": "71d63df8",
   "metadata": {},
   "outputs": [],
   "source": [
    "def format():\n",
    "    text = input()\n",
    "    s=text.find('.')+1\n",
    "    count = len(text)\n",
    "    format = ''\n",
    "    for i in range(count-s):\n",
    "        format = format+text[s+i]\n",
    "    extensions = ['png', 'jpg', 'jpeg', 'gif', 'svg']\n",
    "    if format in extensions:\n",
    "        print('Correct!')\n",
    "    else:\n",
    "        print ('Incorrect!')"
   ]
  },
  {
   "cell_type": "code",
   "execution_count": 4,
   "id": "0b0201cc",
   "metadata": {},
   "outputs": [],
   "source": [
    "def year():\n",
    "    try:\n",
    "        year = int(input(\"Введите год\"))\n",
    "        if year%400 == 0: print('Високосный')\n",
    "        elif year % 100 == 0: print('Невисокосный')\n",
    "        elif year%4 == 0: print('Високосный')\n",
    "        else: print('Невисокосный')\n",
    "    except ValueError:\n",
    "        print('Это не число')"
   ]
  },
  {
   "cell_type": "code",
   "execution_count": 5,
   "id": "862cbb20",
   "metadata": {},
   "outputs": [
    {
     "name": "stdout",
     "output_type": "stream",
     "text": [
      "Введите число 2\n",
      "Февраль\n"
     ]
    }
   ],
   "source": [
    "month()"
   ]
  },
  {
   "cell_type": "code",
   "execution_count": 6,
   "id": "0c52e38a",
   "metadata": {},
   "outputs": [
    {
     "name": "stdout",
     "output_type": "stream",
     "text": [
      "Введите первое число20\n",
      "Введите второе число3\n",
      "1\n"
     ]
    }
   ],
   "source": [
    "gcd()"
   ]
  },
  {
   "cell_type": "code",
   "execution_count": 7,
   "id": "6aa66497",
   "metadata": {},
   "outputs": [
    {
     "name": "stdout",
     "output_type": "stream",
     "text": [
      "kjnh.png\n",
      "Correct!\n"
     ]
    }
   ],
   "source": [
    "format()"
   ]
  },
  {
   "cell_type": "code",
   "execution_count": 8,
   "id": "42fcf89e",
   "metadata": {},
   "outputs": [
    {
     "name": "stdout",
     "output_type": "stream",
     "text": [
      "Введите год2024\n",
      "Високосный\n"
     ]
    }
   ],
   "source": [
    "year()"
   ]
  }
 ],
 "metadata": {
  "kernelspec": {
   "display_name": "Python 3 (ipykernel)",
   "language": "python",
   "name": "python3"
  },
  "language_info": {
   "codemirror_mode": {
    "name": "ipython",
    "version": 3
   },
   "file_extension": ".py",
   "mimetype": "text/x-python",
   "name": "python",
   "nbconvert_exporter": "python",
   "pygments_lexer": "ipython3",
   "version": "3.11.5"
  }
 },
 "nbformat": 4,
 "nbformat_minor": 5
}
