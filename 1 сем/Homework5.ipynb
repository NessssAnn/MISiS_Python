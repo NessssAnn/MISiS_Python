{
 "cells": [
  {
   "cell_type": "markdown",
   "id": "4ef2df8b",
   "metadata": {},
   "source": [
    "# Домашняя работа 5"
   ]
  },
  {
   "cell_type": "code",
   "execution_count": null,
   "id": "cbae3fb4",
   "metadata": {},
   "outputs": [],
   "source": [
    "(Лекция 6)"
   ]
  },
  {
   "cell_type": "code",
   "execution_count": 1,
   "id": "ed263f36",
   "metadata": {},
   "outputs": [],
   "source": [
    "class Student:\n",
    "    def __init__(self, name='Ivan', age=18, groupNumber='10A'):\n",
    "        self.name = name\n",
    "        self.age = age\n",
    "        self.groupNumber = groupNumber\n",
    "\n",
    "    def getName(self):\n",
    "        return self.name\n",
    "\n",
    "    def getAge(self):\n",
    "        return self.age\n",
    "\n",
    "    def getGroupNumber(self):\n",
    "        return self.groupNumber\n",
    "\n",
    "    def setNameAge(self, newName, newAge):\n",
    "        self.name = newName\n",
    "        self.age = newAge\n",
    "\n",
    "    def setGroupNumber(self, newGroupNumber):\n",
    "        self.groupNumber = newGroupNumber"
   ]
  },
  {
   "cell_type": "code",
   "execution_count": 2,
   "id": "1792e95c",
   "metadata": {},
   "outputs": [
    {
     "name": "stdout",
     "output_type": "stream",
     "text": [
      "Anna 22\n",
      "MIST-2-2\n",
      "Kirill 27 MIST-2-1\n",
      "Svetik 23 MIST-2-1\n",
      "Ivan 18 10A\n"
     ]
    }
   ],
   "source": [
    "one = Student()\n",
    "two = Student()\n",
    "three = Student('Kirill', 27, 'MIST-2-1')\n",
    "four = Student()\n",
    "five = Student()\n",
    "one.setNameAge('Anna', 22)\n",
    "two.setGroupNumber('MIST-2-2')\n",
    "four.setNameAge('Svetik', 23)\n",
    "four.setGroupNumber('MIST-2-1')\n",
    "print(one.getName(), one.getAge())\n",
    "print(two.getGroupNumber())\n",
    "print(three.name, three.age, three.groupNumber)\n",
    "print(four.name, four.age, four.groupNumber)\n",
    "print(five.name, five.age, five.groupNumber)"
   ]
  },
  {
   "cell_type": "code",
   "execution_count": 7,
   "id": "18008460",
   "metadata": {},
   "outputs": [],
   "source": [
    "class Car:\n",
    "    def __init__(self, color = 'unknown', type = 'unknown', year = 0):\n",
    "        self.color = color\n",
    "        self.carType = type\n",
    "        self.year = year\n",
    "\n",
    "    def startCar(self):\n",
    "        return \"Автомобиль заведен\"\n",
    "\n",
    "    def stopCar(self):\n",
    "        return \"Автомобиль заглушен\"\n",
    "\n",
    "    def setYear(self, year):\n",
    "        self.year = year\n",
    "\n",
    "    def setType(self, type):\n",
    "        self.type = type\n",
    "\n",
    "    def setColor(self, color):\n",
    "        self.color = color"
   ]
  },
  {
   "cell_type": "code",
   "execution_count": 9,
   "id": "98a273d7",
   "metadata": {},
   "outputs": [
    {
     "name": "stdout",
     "output_type": "stream",
     "text": [
      "Автомобиль заведен\n",
      "Кабриолет Розовый 2024\n",
      "Автомобиль заглушен\n"
     ]
    }
   ],
   "source": [
    "tank = Car()\n",
    "tank.setYear(2024)\n",
    "tank.setType('Кабриолет')\n",
    "tank.setColor('Розовый')\n",
    "print(tank.startCar())\n",
    "print(tank.type, tank.color, tank.year)\n",
    "print(tank.stopCar())"
   ]
  },
  {
   "cell_type": "code",
   "execution_count": 10,
   "id": "028af223",
   "metadata": {},
   "outputs": [],
   "source": [
    "class NutritionInfo:\n",
    "    def __init__(self, proteins, carbs, fats):\n",
    "        self.proteins = proteins\n",
    "        self.carbs = carbs\n",
    "        self.fats = fats\n",
    "\n",
    "    def __add__(self, other):\n",
    "        return NutritionInfo(self.proteins + other.proteins, self.carbs + other.carbs, self.fats + other.fats)\n",
    "\n",
    "    def __str__(self):\n",
    "        return f\"Nutrition p {self.proteins}, c {self.carbs}, f {self.fats}\"\n",
    "\n",
    "    def __mul__(self, other):\n",
    "        return NutritionInfo(self.proteins * other, self.carbs * other, self.fats * other)\n",
    "\n",
    "    def energy(self):\n",
    "        return int(self.fats * 9 + (self.carbs + self.proteins) * 4.2)"
   ]
  },
  {
   "cell_type": "code",
   "execution_count": 11,
   "id": "362c2064",
   "metadata": {},
   "outputs": [
    {
     "name": "stdout",
     "output_type": "stream",
     "text": [
      "Nutrition p 7.8999999999999995, c 55.9, f 12.6\n",
      "381\n"
     ]
    }
   ],
   "source": [
    "croissant = NutritionInfo(3.5, 39, 9)\n",
    "coffee = NutritionInfo(1.8,4.7,1.6)\n",
    "strawberry = NutritionInfo(0.8,7.5,0.4)\n",
    "\n",
    "breakfast = croissant+coffee*2+strawberry\n",
    "print (breakfast)\n",
    "print(breakfast.energy())"
   ]
  }
 ],
 "metadata": {
  "kernelspec": {
   "display_name": "Python 3 (ipykernel)",
   "language": "python",
   "name": "python3"
  },
  "language_info": {
   "codemirror_mode": {
    "name": "ipython",
    "version": 3
   },
   "file_extension": ".py",
   "mimetype": "text/x-python",
   "name": "python",
   "nbconvert_exporter": "python",
   "pygments_lexer": "ipython3",
   "version": "3.11.5"
  }
 },
 "nbformat": 4,
 "nbformat_minor": 5
}
